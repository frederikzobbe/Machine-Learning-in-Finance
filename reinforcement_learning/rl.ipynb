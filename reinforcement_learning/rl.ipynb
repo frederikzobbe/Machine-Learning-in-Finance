{
 "cells": [
  {
   "cell_type": "code",
   "execution_count": 1,
   "metadata": {},
   "outputs": [],
   "source": [
    "from rl_environment import Rl_env\n",
    "from sklearn.preprocessing import StandardScaler\n",
    "import pandas as pd\n",
    "import matplotlib.pyplot as plt\n",
    "import numpy as np"
   ]
  },
  {
   "cell_type": "code",
   "execution_count": 2,
   "metadata": {},
   "outputs": [],
   "source": [
    "def make_simple_dataset(how_many,rl_env,prediction_variable='Close'):\n",
    "    x = []\n",
    "    y = []\n",
    "    y_inv_trans = []\n",
    "    indexes = []\n",
    "    for i in range(how_many):\n",
    "        indexes.append(rl_env.current_index()[0])\n",
    "        x.append(rl_env.state.to_numpy())\n",
    "        next_day = rl_env.get_next_day()  \n",
    "        y.append(next_day[prediction_variable].iloc[0])\n",
    "        y_inv_trans.append(rl_env.scale_data(next_day,inverse_transform=True)[prediction_variable].iloc[0])\n",
    "\n",
    "        rl_env.step_period()\n",
    "\n",
    "    new_dataset = pd.DataFrame(columns=['x','y','y_inv_trans','index'])\n",
    "\n",
    "\n",
    "    \n",
    "    new_dataset['x'].astype(object)\n",
    "    new_dataset['x'] = x\n",
    "    new_dataset['y'] = y\n",
    "    new_dataset['y_inv_trans'] = y_inv_trans\n",
    "    new_dataset['index']=indexes\n",
    "    new_dataset.index = pd.to_datetime(new_dataset['index'])\n",
    "\n",
    "    new_dataset.set_index('index',inplace=True,drop=True)\n",
    "    rl_env.reset_state()\n",
    "\n",
    "    return new_dataset"
   ]
  },
  {
   "cell_type": "code",
   "execution_count": 3,
   "metadata": {},
   "outputs": [
    {
     "name": "stdout",
     "output_type": "stream",
     "text": [
      "Nan found in dataset, removed rows 1\n",
      "loaded 1201 rows and 1 columns from code 1301\n",
      "loaded columns:['Close']\n"
     ]
    },
    {
     "data": {
      "text/plain": [
       "[<matplotlib.lines.Line2D at 0x7fb293a59ee0>]"
      ]
     },
     "execution_count": 3,
     "metadata": {},
     "output_type": "execute_result"
    },
    {
     "data": {
      "image/png": "[encoded data removed]",
      "text/plain": [
       "<Figure size 432x288 with 1 Axes>"
      ]
     },
     "metadata": {},
     "output_type": "display_data"
    }
   ],
   "source": [
    "period_length=50\n",
    "rl_env=Rl_env(1301,period_length=period_length,scaler = StandardScaler())\n",
    "num_points = rl_env.full_dataset.shape[0]-rl_env.period_length\n",
    "\n",
    "new_dataset = make_simple_dataset(num_points,rl_env)\n",
    "\n",
    "plt.figure()\n",
    "plt.plot(new_dataset['y_inv_trans'])\n",
    "plt.plot(rl_env.full_dataset['Close'])\n"
   ]
  },
  {
   "cell_type": "code",
   "execution_count": 4,
   "metadata": {},
   "outputs": [
    {
     "data": {
      "text/plain": [
       "False"
      ]
     },
     "execution_count": 4,
     "metadata": {},
     "output_type": "execute_result"
    }
   ],
   "source": [
    "rl_env.full_dataset.isnull().values.any()"
   ]
  },
  {
   "cell_type": "markdown",
   "metadata": {},
   "source": [
    "# tf example"
   ]
  },
  {
   "cell_type": "code",
   "execution_count": 5,
   "metadata": {},
   "outputs": [],
   "source": [
    "import tensorflow as tf\n",
    "from tensorflow import keras\n",
    "from tensorflow.keras import layers"
   ]
  },
  {
   "cell_type": "code",
   "execution_count": 6,
   "metadata": {},
   "outputs": [
    {
     "name": "stderr",
     "output_type": "stream",
     "text": [
      "2022-06-11 14:11:28.921920: I tensorflow/core/platform/cpu_feature_guard.cc:193] This TensorFlow binary is optimized with oneAPI Deep Neural Network Library (oneDNN) to use the following CPU instructions in performance-critical operations:  AVX2 FMA\n",
      "To enable them in other operations, rebuild TensorFlow with the appropriate compiler flags.\n"
     ]
    }
   ],
   "source": [
    "num_inputs = period_length\n",
    "num_actions = 3\n",
    "num_hidden = 128\n",
    "\n",
    "\n",
    "inputs = layers.Input(shape=(num_inputs,1))\n",
    "common = layers.LSTM(num_hidden)(inputs)\n",
    "action = layers.Dense(num_actions, activation=\"softmax\")(common)\n",
    "critic = layers.Dense(1)(common)\n",
    "\n",
    "model = keras.Model(inputs=inputs, outputs=[action, critic])"
   ]
  },
  {
   "cell_type": "code",
   "execution_count": 7,
   "metadata": {},
   "outputs": [
    {
     "name": "stdout",
     "output_type": "stream",
     "text": [
      "running reward: 0.014, episode_reward: 0.287 at episode 1\n",
      "running reward: 0.012, episode_reward: -0.033 at episode 2\n",
      "running reward: 0.006, episode_reward: -0.108 at episode 3\n",
      "running reward: 0.006, episode_reward: -0.003 at episode 4\n",
      "running reward: 0.009, episode_reward: 0.078 at episode 5\n",
      "running reward: -0.009, episode_reward: -0.359 at episode 6\n",
      "running reward: 0.000, episode_reward: 0.180 at episode 7\n",
      "running reward: 0.001, episode_reward: 0.013 at episode 8\n",
      "running reward: 0.006, episode_reward: 0.107 at episode 9\n",
      "running reward: 0.010, episode_reward: 0.076 at episode 10\n",
      "running reward: 0.026, episode_reward: 0.346 at episode 11\n",
      "running reward: 0.010, episode_reward: -0.294 at episode 12\n",
      "running reward: -0.013, episode_reward: -0.455 at episode 13\n",
      "running reward: -0.016, episode_reward: -0.066 at episode 14\n",
      "running reward: -0.002, episode_reward: 0.256 at episode 15\n",
      "running reward: -0.017, episode_reward: -0.307 at episode 16\n",
      "running reward: -0.018, episode_reward: -0.033 at episode 17\n",
      "running reward: -0.003, episode_reward: 0.282 at episode 18\n",
      "running reward: -0.022, episode_reward: -0.384 at episode 19\n",
      "running reward: -0.011, episode_reward: 0.197 at episode 20\n",
      "running reward: -0.001, episode_reward: 0.189 at episode 21\n",
      "running reward: 0.009, episode_reward: 0.192 at episode 22\n",
      "running reward: -0.017, episode_reward: -0.504 at episode 23\n",
      "running reward: 0.005, episode_reward: 0.424 at episode 24\n",
      "running reward: -0.022, episode_reward: -0.540 at episode 25\n",
      "running reward: -0.010, episode_reward: 0.216 at episode 26\n",
      "running reward: -0.007, episode_reward: 0.062 at episode 27\n",
      "running reward: -0.012, episode_reward: -0.116 at episode 28\n",
      "running reward: 0.008, episode_reward: 0.394 at episode 29\n",
      "running reward: 0.001, episode_reward: -0.136 at episode 30\n",
      "running reward: -0.006, episode_reward: -0.130 at episode 31\n",
      "running reward: 0.000, episode_reward: 0.115 at episode 32\n",
      "running reward: -0.001, episode_reward: -0.021 at episode 33\n",
      "running reward: 0.010, episode_reward: 0.210 at episode 34\n",
      "running reward: 0.011, episode_reward: 0.029 at episode 35\n",
      "running reward: -0.001, episode_reward: -0.225 at episode 36\n",
      "running reward: 0.006, episode_reward: 0.131 at episode 37\n",
      "running reward: 0.021, episode_reward: 0.318 at episode 38\n",
      "running reward: 0.039, episode_reward: 0.369 at episode 39\n",
      "running reward: 0.037, episode_reward: 0.011 at episode 40\n",
      "running reward: 0.034, episode_reward: -0.033 at episode 41\n",
      "running reward: 0.054, episode_reward: 0.432 at episode 42\n",
      "running reward: 0.031, episode_reward: -0.396 at episode 43\n",
      "running reward: 0.020, episode_reward: -0.199 at episode 44\n",
      "running reward: 0.012, episode_reward: -0.137 at episode 45\n",
      "running reward: 0.020, episode_reward: 0.177 at episode 46\n",
      "running reward: 0.029, episode_reward: 0.197 at episode 47\n",
      "running reward: 0.023, episode_reward: -0.083 at episode 48\n",
      "running reward: 0.030, episode_reward: 0.145 at episode 49\n",
      "running reward: 0.024, episode_reward: -0.072 at episode 50\n",
      "running reward: 0.008, episode_reward: -0.310 at episode 51\n",
      "running reward: -0.004, episode_reward: -0.224 at episode 52\n"
     ]
    },
    {
     "ename": "KeyboardInterrupt",
     "evalue": "",
     "output_type": "error",
     "traceback": [
      "\u001b[0;31m---------------------------------------------------------------------------\u001b[0m",
      "\u001b[0;31mKeyboardInterrupt\u001b[0m                         Traceback (most recent call last)",
      "\u001b[1;32m/Users/qdev_26/Documents/PhD/applied machine learning 2022/Machine-Learning-in-Finance/reinforcement_learning/rl.ipynb Cell 8'\u001b[0m in \u001b[0;36m<cell line: 16>\u001b[0;34m()\u001b[0m\n\u001b[1;32m     <a href='vscode-notebook-cell:/Users/qdev_26/Documents/PhD/applied%20machine%20learning%202022/Machine-Learning-in-Finance/reinforcement_learning/rl.ipynb#ch0000010?line=83'>84</a>\u001b[0m \u001b[39m# Backpropagation\u001b[39;00m\n\u001b[1;32m     <a href='vscode-notebook-cell:/Users/qdev_26/Documents/PhD/applied%20machine%20learning%202022/Machine-Learning-in-Finance/reinforcement_learning/rl.ipynb#ch0000010?line=84'>85</a>\u001b[0m loss_value \u001b[39m=\u001b[39m \u001b[39msum\u001b[39m(actor_losses) \u001b[39m+\u001b[39m \u001b[39msum\u001b[39m(critic_losses)\n\u001b[0;32m---> <a href='vscode-notebook-cell:/Users/qdev_26/Documents/PhD/applied%20machine%20learning%202022/Machine-Learning-in-Finance/reinforcement_learning/rl.ipynb#ch0000010?line=85'>86</a>\u001b[0m grads \u001b[39m=\u001b[39m tape\u001b[39m.\u001b[39;49mgradient(loss_value, model\u001b[39m.\u001b[39;49mtrainable_variables)\n\u001b[1;32m     <a href='vscode-notebook-cell:/Users/qdev_26/Documents/PhD/applied%20machine%20learning%202022/Machine-Learning-in-Finance/reinforcement_learning/rl.ipynb#ch0000010?line=86'>87</a>\u001b[0m optimizer\u001b[39m.\u001b[39mapply_gradients(\u001b[39mzip\u001b[39m(grads, model\u001b[39m.\u001b[39mtrainable_variables))\n\u001b[1;32m     <a href='vscode-notebook-cell:/Users/qdev_26/Documents/PhD/applied%20machine%20learning%202022/Machine-Learning-in-Finance/reinforcement_learning/rl.ipynb#ch0000010?line=88'>89</a>\u001b[0m \u001b[39m# histories['action_probs'].append(action_probs_history.copy())\u001b[39;00m\n\u001b[1;32m     <a href='vscode-notebook-cell:/Users/qdev_26/Documents/PhD/applied%20machine%20learning%202022/Machine-Learning-in-Finance/reinforcement_learning/rl.ipynb#ch0000010?line=89'>90</a>\u001b[0m \u001b[39m# histories['rewards'].append(rewards_history.copy())\u001b[39;00m\n\u001b[1;32m     <a href='vscode-notebook-cell:/Users/qdev_26/Documents/PhD/applied%20machine%20learning%202022/Machine-Learning-in-Finance/reinforcement_learning/rl.ipynb#ch0000010?line=90'>91</a>\u001b[0m \u001b[39m# Clear the loss and reward history\u001b[39;00m\n",
      "File \u001b[0;32m~/opt/anaconda3/envs/appl3.9/lib/python3.9/site-packages/tensorflow/python/eager/backprop.py:1100\u001b[0m, in \u001b[0;36mGradientTape.gradient\u001b[0;34m(self, target, sources, output_gradients, unconnected_gradients)\u001b[0m\n\u001b[1;32m   <a href='file:///Users/qdev_26/opt/anaconda3/envs/appl3.9/lib/python3.9/site-packages/tensorflow/python/eager/backprop.py?line=1093'>1094</a>\u001b[0m   output_gradients \u001b[39m=\u001b[39m (\n\u001b[1;32m   <a href='file:///Users/qdev_26/opt/anaconda3/envs/appl3.9/lib/python3.9/site-packages/tensorflow/python/eager/backprop.py?line=1094'>1095</a>\u001b[0m       composite_tensor_gradient\u001b[39m.\u001b[39mget_flat_tensors_for_gradients(\n\u001b[1;32m   <a href='file:///Users/qdev_26/opt/anaconda3/envs/appl3.9/lib/python3.9/site-packages/tensorflow/python/eager/backprop.py?line=1095'>1096</a>\u001b[0m           output_gradients))\n\u001b[1;32m   <a href='file:///Users/qdev_26/opt/anaconda3/envs/appl3.9/lib/python3.9/site-packages/tensorflow/python/eager/backprop.py?line=1096'>1097</a>\u001b[0m   output_gradients \u001b[39m=\u001b[39m [\u001b[39mNone\u001b[39;00m \u001b[39mif\u001b[39;00m x \u001b[39mis\u001b[39;00m \u001b[39mNone\u001b[39;00m \u001b[39melse\u001b[39;00m ops\u001b[39m.\u001b[39mconvert_to_tensor(x)\n\u001b[1;32m   <a href='file:///Users/qdev_26/opt/anaconda3/envs/appl3.9/lib/python3.9/site-packages/tensorflow/python/eager/backprop.py?line=1097'>1098</a>\u001b[0m                       \u001b[39mfor\u001b[39;00m x \u001b[39min\u001b[39;00m output_gradients]\n\u001b[0;32m-> <a href='file:///Users/qdev_26/opt/anaconda3/envs/appl3.9/lib/python3.9/site-packages/tensorflow/python/eager/backprop.py?line=1099'>1100</a>\u001b[0m flat_grad \u001b[39m=\u001b[39m imperative_grad\u001b[39m.\u001b[39;49mimperative_grad(\n\u001b[1;32m   <a href='file:///Users/qdev_26/opt/anaconda3/envs/appl3.9/lib/python3.9/site-packages/tensorflow/python/eager/backprop.py?line=1100'>1101</a>\u001b[0m     \u001b[39mself\u001b[39;49m\u001b[39m.\u001b[39;49m_tape,\n\u001b[1;32m   <a href='file:///Users/qdev_26/opt/anaconda3/envs/appl3.9/lib/python3.9/site-packages/tensorflow/python/eager/backprop.py?line=1101'>1102</a>\u001b[0m     flat_targets,\n\u001b[1;32m   <a href='file:///Users/qdev_26/opt/anaconda3/envs/appl3.9/lib/python3.9/site-packages/tensorflow/python/eager/backprop.py?line=1102'>1103</a>\u001b[0m     flat_sources,\n\u001b[1;32m   <a href='file:///Users/qdev_26/opt/anaconda3/envs/appl3.9/lib/python3.9/site-packages/tensorflow/python/eager/backprop.py?line=1103'>1104</a>\u001b[0m     output_gradients\u001b[39m=\u001b[39;49moutput_gradients,\n\u001b[1;32m   <a href='file:///Users/qdev_26/opt/anaconda3/envs/appl3.9/lib/python3.9/site-packages/tensorflow/python/eager/backprop.py?line=1104'>1105</a>\u001b[0m     sources_raw\u001b[39m=\u001b[39;49mflat_sources_raw,\n\u001b[1;32m   <a href='file:///Users/qdev_26/opt/anaconda3/envs/appl3.9/lib/python3.9/site-packages/tensorflow/python/eager/backprop.py?line=1105'>1106</a>\u001b[0m     unconnected_gradients\u001b[39m=\u001b[39;49munconnected_gradients)\n\u001b[1;32m   <a href='file:///Users/qdev_26/opt/anaconda3/envs/appl3.9/lib/python3.9/site-packages/tensorflow/python/eager/backprop.py?line=1107'>1108</a>\u001b[0m \u001b[39mif\u001b[39;00m \u001b[39mnot\u001b[39;00m \u001b[39mself\u001b[39m\u001b[39m.\u001b[39m_persistent:\n\u001b[1;32m   <a href='file:///Users/qdev_26/opt/anaconda3/envs/appl3.9/lib/python3.9/site-packages/tensorflow/python/eager/backprop.py?line=1108'>1109</a>\u001b[0m   \u001b[39m# Keep track of watched variables before setting tape to None\u001b[39;00m\n\u001b[1;32m   <a href='file:///Users/qdev_26/opt/anaconda3/envs/appl3.9/lib/python3.9/site-packages/tensorflow/python/eager/backprop.py?line=1109'>1110</a>\u001b[0m   \u001b[39mself\u001b[39m\u001b[39m.\u001b[39m_watched_variables \u001b[39m=\u001b[39m \u001b[39mself\u001b[39m\u001b[39m.\u001b[39m_tape\u001b[39m.\u001b[39mwatched_variables()\n",
      "File \u001b[0;32m~/opt/anaconda3/envs/appl3.9/lib/python3.9/site-packages/tensorflow/python/eager/imperative_grad.py:67\u001b[0m, in \u001b[0;36mimperative_grad\u001b[0;34m(tape, target, sources, output_gradients, sources_raw, unconnected_gradients)\u001b[0m\n\u001b[1;32m     <a href='file:///Users/qdev_26/opt/anaconda3/envs/appl3.9/lib/python3.9/site-packages/tensorflow/python/eager/imperative_grad.py?line=62'>63</a>\u001b[0m \u001b[39mexcept\u001b[39;00m \u001b[39mValueError\u001b[39;00m:\n\u001b[1;32m     <a href='file:///Users/qdev_26/opt/anaconda3/envs/appl3.9/lib/python3.9/site-packages/tensorflow/python/eager/imperative_grad.py?line=63'>64</a>\u001b[0m   \u001b[39mraise\u001b[39;00m \u001b[39mValueError\u001b[39;00m(\n\u001b[1;32m     <a href='file:///Users/qdev_26/opt/anaconda3/envs/appl3.9/lib/python3.9/site-packages/tensorflow/python/eager/imperative_grad.py?line=64'>65</a>\u001b[0m       \u001b[39m\"\u001b[39m\u001b[39mUnknown value for unconnected_gradients: \u001b[39m\u001b[39m%r\u001b[39;00m\u001b[39m\"\u001b[39m \u001b[39m%\u001b[39m unconnected_gradients)\n\u001b[0;32m---> <a href='file:///Users/qdev_26/opt/anaconda3/envs/appl3.9/lib/python3.9/site-packages/tensorflow/python/eager/imperative_grad.py?line=66'>67</a>\u001b[0m \u001b[39mreturn\u001b[39;00m pywrap_tfe\u001b[39m.\u001b[39;49mTFE_Py_TapeGradient(\n\u001b[1;32m     <a href='file:///Users/qdev_26/opt/anaconda3/envs/appl3.9/lib/python3.9/site-packages/tensorflow/python/eager/imperative_grad.py?line=67'>68</a>\u001b[0m     tape\u001b[39m.\u001b[39;49m_tape,  \u001b[39m# pylint: disable=protected-access\u001b[39;49;00m\n\u001b[1;32m     <a href='file:///Users/qdev_26/opt/anaconda3/envs/appl3.9/lib/python3.9/site-packages/tensorflow/python/eager/imperative_grad.py?line=68'>69</a>\u001b[0m     target,\n\u001b[1;32m     <a href='file:///Users/qdev_26/opt/anaconda3/envs/appl3.9/lib/python3.9/site-packages/tensorflow/python/eager/imperative_grad.py?line=69'>70</a>\u001b[0m     sources,\n\u001b[1;32m     <a href='file:///Users/qdev_26/opt/anaconda3/envs/appl3.9/lib/python3.9/site-packages/tensorflow/python/eager/imperative_grad.py?line=70'>71</a>\u001b[0m     output_gradients,\n\u001b[1;32m     <a href='file:///Users/qdev_26/opt/anaconda3/envs/appl3.9/lib/python3.9/site-packages/tensorflow/python/eager/imperative_grad.py?line=71'>72</a>\u001b[0m     sources_raw,\n\u001b[1;32m     <a href='file:///Users/qdev_26/opt/anaconda3/envs/appl3.9/lib/python3.9/site-packages/tensorflow/python/eager/imperative_grad.py?line=72'>73</a>\u001b[0m     compat\u001b[39m.\u001b[39;49mas_str(unconnected_gradients\u001b[39m.\u001b[39;49mvalue))\n",
      "File \u001b[0;32m~/opt/anaconda3/envs/appl3.9/lib/python3.9/site-packages/tensorflow/python/eager/backprop.py:157\u001b[0m, in \u001b[0;36m_gradient_function\u001b[0;34m(op_name, attr_tuple, num_inputs, inputs, outputs, out_grads, skip_input_indices, forward_pass_name_scope)\u001b[0m\n\u001b[1;32m    <a href='file:///Users/qdev_26/opt/anaconda3/envs/appl3.9/lib/python3.9/site-packages/tensorflow/python/eager/backprop.py?line=154'>155</a>\u001b[0m     gradient_name_scope \u001b[39m+\u001b[39m\u001b[39m=\u001b[39m forward_pass_name_scope \u001b[39m+\u001b[39m \u001b[39m\"\u001b[39m\u001b[39m/\u001b[39m\u001b[39m\"\u001b[39m\n\u001b[1;32m    <a href='file:///Users/qdev_26/opt/anaconda3/envs/appl3.9/lib/python3.9/site-packages/tensorflow/python/eager/backprop.py?line=155'>156</a>\u001b[0m   \u001b[39mwith\u001b[39;00m ops\u001b[39m.\u001b[39mname_scope(gradient_name_scope):\n\u001b[0;32m--> <a href='file:///Users/qdev_26/opt/anaconda3/envs/appl3.9/lib/python3.9/site-packages/tensorflow/python/eager/backprop.py?line=156'>157</a>\u001b[0m     \u001b[39mreturn\u001b[39;00m grad_fn(mock_op, \u001b[39m*\u001b[39;49mout_grads)\n\u001b[1;32m    <a href='file:///Users/qdev_26/opt/anaconda3/envs/appl3.9/lib/python3.9/site-packages/tensorflow/python/eager/backprop.py?line=157'>158</a>\u001b[0m \u001b[39melse\u001b[39;00m:\n\u001b[1;32m    <a href='file:///Users/qdev_26/opt/anaconda3/envs/appl3.9/lib/python3.9/site-packages/tensorflow/python/eager/backprop.py?line=158'>159</a>\u001b[0m   \u001b[39mreturn\u001b[39;00m grad_fn(mock_op, \u001b[39m*\u001b[39mout_grads)\n",
      "File \u001b[0;32m~/opt/anaconda3/envs/appl3.9/lib/python3.9/site-packages/tensorflow/python/ops/nn_grad.py:343\u001b[0m, in \u001b[0;36m_BiasAddGrad\u001b[0;34m(op, received_grad)\u001b[0m\n\u001b[1;32m    <a href='file:///Users/qdev_26/opt/anaconda3/envs/appl3.9/lib/python3.9/site-packages/tensorflow/python/ops/nn_grad.py?line=339'>340</a>\u001b[0m \u001b[39mexcept\u001b[39;00m \u001b[39mValueError\u001b[39;00m:\n\u001b[1;32m    <a href='file:///Users/qdev_26/opt/anaconda3/envs/appl3.9/lib/python3.9/site-packages/tensorflow/python/ops/nn_grad.py?line=340'>341</a>\u001b[0m   data_format \u001b[39m=\u001b[39m \u001b[39mNone\u001b[39;00m\n\u001b[1;32m    <a href='file:///Users/qdev_26/opt/anaconda3/envs/appl3.9/lib/python3.9/site-packages/tensorflow/python/ops/nn_grad.py?line=341'>342</a>\u001b[0m \u001b[39mreturn\u001b[39;00m (received_grad,\n\u001b[0;32m--> <a href='file:///Users/qdev_26/opt/anaconda3/envs/appl3.9/lib/python3.9/site-packages/tensorflow/python/ops/nn_grad.py?line=342'>343</a>\u001b[0m         gen_nn_ops\u001b[39m.\u001b[39;49mbias_add_grad(\n\u001b[1;32m    <a href='file:///Users/qdev_26/opt/anaconda3/envs/appl3.9/lib/python3.9/site-packages/tensorflow/python/ops/nn_grad.py?line=343'>344</a>\u001b[0m             out_backprop\u001b[39m=\u001b[39;49mreceived_grad, data_format\u001b[39m=\u001b[39;49mdata_format))\n",
      "File \u001b[0;32m~/opt/anaconda3/envs/appl3.9/lib/python3.9/site-packages/tensorflow/python/ops/gen_nn_ops.py:749\u001b[0m, in \u001b[0;36mbias_add_grad\u001b[0;34m(out_backprop, data_format, name)\u001b[0m\n\u001b[1;32m    <a href='file:///Users/qdev_26/opt/anaconda3/envs/appl3.9/lib/python3.9/site-packages/tensorflow/python/ops/gen_nn_ops.py?line=746'>747</a>\u001b[0m \u001b[39mif\u001b[39;00m tld\u001b[39m.\u001b[39mis_eager:\n\u001b[1;32m    <a href='file:///Users/qdev_26/opt/anaconda3/envs/appl3.9/lib/python3.9/site-packages/tensorflow/python/ops/gen_nn_ops.py?line=747'>748</a>\u001b[0m   \u001b[39mtry\u001b[39;00m:\n\u001b[0;32m--> <a href='file:///Users/qdev_26/opt/anaconda3/envs/appl3.9/lib/python3.9/site-packages/tensorflow/python/ops/gen_nn_ops.py?line=748'>749</a>\u001b[0m     _result \u001b[39m=\u001b[39m pywrap_tfe\u001b[39m.\u001b[39;49mTFE_Py_FastPathExecute(\n\u001b[1;32m    <a href='file:///Users/qdev_26/opt/anaconda3/envs/appl3.9/lib/python3.9/site-packages/tensorflow/python/ops/gen_nn_ops.py?line=749'>750</a>\u001b[0m       _ctx, \u001b[39m\"\u001b[39;49m\u001b[39mBiasAddGrad\u001b[39;49m\u001b[39m\"\u001b[39;49m, name, out_backprop, \u001b[39m\"\u001b[39;49m\u001b[39mdata_format\u001b[39;49m\u001b[39m\"\u001b[39;49m, data_format)\n\u001b[1;32m    <a href='file:///Users/qdev_26/opt/anaconda3/envs/appl3.9/lib/python3.9/site-packages/tensorflow/python/ops/gen_nn_ops.py?line=750'>751</a>\u001b[0m     \u001b[39mreturn\u001b[39;00m _result\n\u001b[1;32m    <a href='file:///Users/qdev_26/opt/anaconda3/envs/appl3.9/lib/python3.9/site-packages/tensorflow/python/ops/gen_nn_ops.py?line=751'>752</a>\u001b[0m   \u001b[39mexcept\u001b[39;00m _core\u001b[39m.\u001b[39m_NotOkStatusException \u001b[39mas\u001b[39;00m e:\n",
      "\u001b[0;31mKeyboardInterrupt\u001b[0m: "
     ]
    }
   ],
   "source": [
    "optimizer = keras.optimizers.Adam(learning_rate=0.01)\n",
    "\n",
    "huber_loss = keras.losses.Huber()\n",
    "action_probs_history = []\n",
    "critic_value_history = []\n",
    "rewards_history = []\n",
    "running_reward = 0\n",
    "episode_count = 0\n",
    "\n",
    "gamma = 0.99\n",
    "eps = np.finfo(np.float32).eps.item() \n",
    "\n",
    "# histories = {'actions':[],'rewards':[],'action_probs':[]}\n",
    "\n",
    "while True:  # Run until solved\n",
    "    rl_env.reset_state()\n",
    "    state = rl_env.state\n",
    "    episode_reward = 0\n",
    "    with tf.GradientTape() as tape:\n",
    "        for timestep in range(0, num_points-2*period_length):\n",
    "            # env.render(); Adding this line would show the attempts\n",
    "            # of the agent in a pop up window.\n",
    "\n",
    "            state = tf.convert_to_tensor(state)\n",
    "            state = tf.expand_dims(state, 0)\n",
    "\n",
    "            # Predict action probabilities and estimated future rewards\n",
    "            # from environment state\n",
    "            action_probs, critic_value = model(state)\n",
    "            critic_value_history.append(critic_value[0, 0])\n",
    "            # Sample action from action probability distribution\n",
    "\n",
    "            action = np.random.choice(num_actions, p=np.squeeze(action_probs))\n",
    "            # histories['actions'].append(action)\n",
    "            action_probs_history.append(tf.math.log(action_probs[0, action]))\n",
    "\n",
    "            # Apply the sampled action in our environment\n",
    "            reward = rl_env.get_reward(action)\n",
    "            rl_env.step_period()\n",
    "            state = rl_env.state\n",
    "            \n",
    "            rewards_history.append(reward)\n",
    "            episode_reward += reward\n",
    "\n",
    "        \n",
    "        # Update running reward to check condition for solving\n",
    "        running_reward = 0.05 * episode_reward + (1 - 0.05) * running_reward\n",
    "\n",
    "        # Calculate expected value from rewards\n",
    "        # - At each timestep what was the total reward received after that timestep\n",
    "        # - Rewards in the past are discounted by multiplying them with gamma\n",
    "        # - These are the labels for our critic\n",
    "        returns = []\n",
    "        discounted_sum = 0\n",
    "        for r in rewards_history[::-1]:\n",
    "            discounted_sum = r + gamma * discounted_sum\n",
    "            returns.insert(0, discounted_sum)\n",
    "\n",
    "        # Normalize\n",
    "        returns = np.array(returns)\n",
    "        returns = (returns - np.mean(returns)) / (np.std(returns) + eps)\n",
    "        returns = returns.tolist()\n",
    "\n",
    "        # Calculating loss values to update our network\n",
    "        history = zip(action_probs_history, critic_value_history, returns)\n",
    "        actor_losses = []\n",
    "        critic_losses = []\n",
    "        for log_prob, value, ret in history:\n",
    "            # At this point in history, the critic estimated that we would get a\n",
    "            # total reward = `value` in the future. We took an action with log probability\n",
    "            # of `log_prob` and ended up recieving a total reward = `ret`.\n",
    "            # The actor must be updated so that it predicts an action that leads to\n",
    "            # high rewards (compared to critic's estimate) with high probability.\n",
    "            diff = ret - value\n",
    "            actor_losses.append(-log_prob * diff)  # actor loss\n",
    "\n",
    "            # The critic must be updated so that it predicts a better estimate of\n",
    "            # the future rewards.\n",
    "            critic_losses.append(\n",
    "                huber_loss(tf.expand_dims(value, 0), tf.expand_dims(ret, 0))\n",
    "            )\n",
    "        \n",
    "\n",
    "        # Backpropagation\n",
    "        loss_value = sum(actor_losses) + sum(critic_losses)\n",
    "        grads = tape.gradient(loss_value, model.trainable_variables)\n",
    "        optimizer.apply_gradients(zip(grads, model.trainable_variables))\n",
    "\n",
    "        # histories['action_probs'].append(action_probs_history.copy())\n",
    "        # histories['rewards'].append(rewards_history.copy())\n",
    "        # Clear the loss and reward history\n",
    "        action_probs_history.clear()\n",
    "        critic_value_history.clear()\n",
    "        rewards_history.clear()\n",
    "    \n",
    "    # Log details\n",
    "    episode_count += 1\n",
    "    \n",
    "    print(f\"episode: {episode_count}, running reward: {running_reward:.3f}, episode_reward: {episode_reward:.3f}\")\n",
    "    \n",
    "\n",
    "    if running_reward > 1:  # Condition to consider the task solved\n",
    "        print(\"Solved at episode {}!\".format(episode_count))\n",
    "        break\n",
    "    \n"
   ]
  },
  {
   "cell_type": "code",
   "execution_count": 8,
   "metadata": {},
   "outputs": [
    {
     "name": "stdout",
     "output_type": "stream",
     "text": [
      "WARNING:tensorflow:Compiled the loaded model, but the compiled metrics have yet to be built. `model.compile_metrics` will be empty until you train or evaluate the model.\n"
     ]
    },
    {
     "name": "stderr",
     "output_type": "stream",
     "text": [
      "WARNING:absl:Found untraced functions such as lstm_cell_layer_call_fn, lstm_cell_layer_call_and_return_conditional_losses while saving (showing 2 of 2). These functions will not be directly callable after loading.\n"
     ]
    },
    {
     "name": "stdout",
     "output_type": "stream",
     "text": [
      "INFO:tensorflow:Assets written to: models/first_try/assets\n"
     ]
    },
    {
     "name": "stderr",
     "output_type": "stream",
     "text": [
      "INFO:tensorflow:Assets written to: models/first_try/assets\n"
     ]
    }
   ],
   "source": [
    "model.save('models/first_try')"
   ]
  },
  {
   "cell_type": "code",
   "execution_count": 14,
   "metadata": {},
   "outputs": [],
   "source": [
    "rl_env.reset_state()\n",
    "new_dataset = make_simple_dataset(num_points,rl_env)\n",
    "actions = []\n",
    "action_probs_list = []\n",
    "\n",
    "for state in new_dataset['x']:\n",
    "    state = tf.convert_to_tensor(state)\n",
    "    state = tf.expand_dims(state, 0)\n",
    "\n",
    "    action_probs, critic = model(state)\n",
    "    action_probs_list.append(action_probs)\n",
    "    actions.append(np.argmax(action_probs))\n",
    "\n",
    "new_dataset['actions']=actions\n",
    "    "
   ]
  },
  {
   "cell_type": "code",
   "execution_count": 10,
   "metadata": {},
   "outputs": [
    {
     "data": {
      "text/plain": [
       "[<matplotlib.lines.Line2D at 0x7fb1de35d7c0>]"
      ]
     },
     "execution_count": 10,
     "metadata": {},
     "output_type": "execute_result"
    },
    {
     "data": {
      "image/png": "[encoded data removed]",
      "text/plain": [
       "<Figure size 432x288 with 2 Axes>"
      ]
     },
     "metadata": {},
     "output_type": "display_data"
    }
   ],
   "source": [
    "fig,ax=plt.subplots()\n",
    "ax.plot(new_dataset['y_inv_trans'].iloc[-50:])\n",
    "ax2=ax.twinx()\n",
    "ax2.plot(new_dataset['actions'].iloc[-50:],c='r')"
   ]
  },
  {
   "cell_type": "code",
   "execution_count": 12,
   "metadata": {},
   "outputs": [
    {
     "data": {
      "text/plain": [
       "array([2])"
      ]
     },
     "execution_count": 12,
     "metadata": {},
     "output_type": "execute_result"
    }
   ],
   "source": [
    "np.unique(actions)"
   ]
  },
  {
   "cell_type": "code",
   "execution_count": 23,
   "metadata": {},
   "outputs": [],
   "source": [
    "a=[]\n",
    "for ac in action_probs_list:\n",
    "    a.append(np.squeeze(ac.numpy()))\n",
    "a = np.array(a)"
   ]
  },
  {
   "cell_type": "code",
   "execution_count": 25,
   "metadata": {},
   "outputs": [
    {
     "data": {
      "text/plain": [
       "array([0.05655271, 0.11817338, 0.8252735 ], dtype=float32)"
      ]
     },
     "execution_count": 25,
     "metadata": {},
     "output_type": "execute_result"
    }
   ],
   "source": [
    "a.mean(axis=0)"
   ]
  },
  {
   "cell_type": "code",
   "execution_count": null,
   "metadata": {},
   "outputs": [],
   "source": []
  }
 ],
 "metadata": {
  "interpreter": {
   "hash": "f42f7fe9c82f4ff22fc6c226bd56a9491f7289abe01d4c6850dac8fe6bfa3171"
  },
  "kernelspec": {
   "display_name": "Python 3.9.12 ('appl3.9')",
   "language": "python",
   "name": "python3"
  },
  "language_info": {
   "codemirror_mode": {
    "name": "ipython",
    "version": 3
   },
   "file_extension": ".py",
   "mimetype": "text/x-python",
   "name": "python",
   "nbconvert_exporter": "python",
   "pygments_lexer": "ipython3",
   "version": "3.9.12"
  },
  "orig_nbformat": 4
 },
 "nbformat": 4,
 "nbformat_minor": 2
}
